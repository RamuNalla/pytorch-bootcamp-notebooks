{
 "cells": [
  {
   "cell_type": "code",
   "execution_count": 2,
   "id": "8599acfb",
   "metadata": {},
   "outputs": [],
   "source": [
    "import torch\n",
    "import torch.nn as nn\n",
    "from torch.optim import Adam\n",
    "import torch.nn.functional as F\n",
    "from torch.utils.data import DataLoader, Dataset\n",
    "from torchinfo import summary\n",
    "from torch.utils.tensorboard import SummaryWriter\n",
    "\n",
    "import torchvision\n",
    "from torchvision import datasets\n",
    "from torchvision.transforms import v2 as transforms\n",
    "from torchvision.ops import Conv2dNormActivation\n",
    "\n",
    "from dataclasses import dataclass\n",
    "from sklearn.metrics import confusion_matrix\n",
    "from sklearn.model_selection import train_test_split\n",
    "import seaborn as sn\n",
    "\n",
    "import matplotlib.pyplot as plt\n",
    "import time\n",
    "import numpy as np\n",
    "import random\n",
    "import warnings\n",
    "import os\n",
    "from tqdm import tqdm\n",
    "\n",
    "import pandas as pd\n",
    "\n",
    "%matplotlib inline\n",
    "warnings.filterwarnings(\"ignore\")"
   ]
  },
  {
   "cell_type": "code",
   "execution_count": 3,
   "id": "b97e6c4e",
   "metadata": {},
   "outputs": [],
   "source": [
    "#Set seed for reproducibilty\n",
    "def set_seed(seed):\n",
    "    random.seed(seed)\n",
    "    np.random.seed(seed)\n",
    "    torch.manual_seed(seed)\n",
    "\n",
    "    if torch.cuda.is_available():\n",
    "       torch.cuda.manual_seed(seed)\n",
    "       torch.cuda.manual_seed_all(seed)\n",
    "       torch.backends.cudnn.deterministic = True\n",
    "       torch.backends.cudnn.benchmark = True\n",
    "\n",
    "set_seed(42)"
   ]
  },
  {
   "cell_type": "code",
   "execution_count": 2,
   "id": "a5b951c6",
   "metadata": {},
   "outputs": [
    {
     "name": "stdout",
     "output_type": "stream",
     "text": [
      "Downloading 10_Monkey_Species.zip from https://www.dropbox.com/s/45jdd8padeyjq6t/10_Monkey_Species.zip?dl=1...\n",
      "Download completed successfully.\n"
     ]
    }
   ],
   "source": [
    "import requests\n",
    "\n",
    "# The URL for the file you want to download\n",
    "url = \"https://www.dropbox.com/s/45jdd8padeyjq6t/10_Monkey_Species.zip?dl=1\"\n",
    "# The local filename to save the file as\n",
    "output_filename = \"10_Monkey_Species.zip\"\n",
    "\n",
    "print(f\"Downloading {output_filename} from {url}...\")\n",
    "\n",
    "# Send a GET request to the URL\n",
    "response = requests.get(url, stream=True)\n",
    "\n",
    "# Check if the request was successful (status code 200)\n",
    "if response.status_code == 200:\n",
    "    # Open the output file in write-binary mode\n",
    "    with open(output_filename, \"wb\") as f:\n",
    "        # Write the content of the response to the file in chunks\n",
    "        for chunk in response.iter_content(chunk_size=8192):\n",
    "            f.write(chunk)\n",
    "    print(\"Download completed successfully.\")\n",
    "else:\n",
    "    print(f\"Failed to download file. Status code: {response.status_code}\")\n",
    "\n"
   ]
  },
  {
   "cell_type": "code",
   "execution_count": null,
   "id": "fc756f7c",
   "metadata": {},
   "outputs": [],
   "source": [
    "import zipfile\n",
    "import os\n",
    "\n",
    "# --- Configuration ---\n",
    "zip_file_path = '10_Monkey_Species.zip'\n",
    "extract_to_directory = 'monkey_species_data'\n",
    "\n",
    "# --- Main Logic ---\n",
    "# First, check if the zip file actually exists\n",
    "if not os.path.exists(zip_file_path):\n",
    "    print(f\"Error: The file '{zip_file_path}' was not found.\")\n",
    "    print(\"Please make sure you have downloaded the file first.\")\n",
    "else:\n",
    "    # Create the extraction directory if it doesn't exist.\n",
    "    # The exist_ok=True argument prevents an error if the directory is already there.\n",
    "    os.makedirs(extract_to_directory, exist_ok=True)\n",
    "    \n",
    "    print(f\"Extracting '{zip_file_path}' into '{extract_to_directory}'...\")\n",
    "    \n",
    "    try:\n",
    "        # Use a 'with' statement to safely open and automatically close the zip file\n",
    "        with zipfile.ZipFile(zip_file_path, 'r') as zip_ref:\n",
    "            # extractall() extracts all members from the archive into the specified directory\n",
    "            zip_ref.extractall(extract_to_directory)\n",
    "        \n",
    "        print(\"\\nExtraction complete!\")\n",
    "        print(f\"Data is available in the directory: '{os.path.abspath(extract_to_directory)}'\")\n",
    "\n",
    "    except zipfile.BadZipFile:\n",
    "        print(f\"Error: The file '{zip_file_path}' is not a valid zip file or it is corrupted.\")\n",
    "    except Exception as e:\n",
    "        print(f\"An unexpected error occurred: {e}\")\n",
    "\n"
   ]
  },
  {
   "cell_type": "code",
   "execution_count": null,
   "id": "07c1c962",
   "metadata": {},
   "outputs": [],
   "source": [
    "@dataclass(frozen=True)\n",
    "class TrainingConfig:\n",
    "      ''' Configuration for Training '''\n",
    "      batch_size: int = 32\n",
    "      num_epochs: int = 100\n",
    "      learning_rate: float = 1e-4\n",
    "\n",
    "      log_interval: int = 1\n",
    "      test_interval: int = 1\n",
    "      data_root: int = \"./\"\n",
    "      num_workers: int = 5\n",
    "      device: str = \"cuda\"\n",
    "\n",
    "train_config = TrainingConfig()\n",
    "DEVICE = torch.device(\"cuda\") if torch.cuda.is_available() else \"cpu\"\n",
    "print(\"Available Device: \", DEVICE)"
   ]
  },
  {
   "cell_type": "code",
   "execution_count": null,
   "id": "cbdcb018",
   "metadata": {},
   "outputs": [],
   "source": []
  }
 ],
 "metadata": {
  "kernelspec": {
   "display_name": "Python 3",
   "language": "python",
   "name": "python3"
  },
  "language_info": {
   "codemirror_mode": {
    "name": "ipython",
    "version": 3
   },
   "file_extension": ".py",
   "mimetype": "text/x-python",
   "name": "python",
   "nbconvert_exporter": "python",
   "pygments_lexer": "ipython3",
   "version": "3.13.3"
  }
 },
 "nbformat": 4,
 "nbformat_minor": 5
}
